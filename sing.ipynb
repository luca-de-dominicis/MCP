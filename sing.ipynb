{
 "cells": [
  {
   "cell_type": "code",
   "execution_count": null,
   "metadata": {},
   "outputs": [],
   "source": [
    "from itertools import combinations\n",
    "from z3 import *\n",
    "\n",
    "#Caricamento dati\n",
    "\n",
    "file = open(\"./Instances/inst01.dat\", \"r\")\n",
    "lines = file.readlines()\n",
    "file.close()\n",
    "m = int(lines[0].rstrip(''))\n",
    "n = int(lines[1].rstrip(''))\n",
    "load = [int(x) for x in lines[2].split(' ')]\n",
    "size = [int(x) for x in lines[3].split(' ')]\n",
    "D = [[int(x) for x in line.rstrip().split(' ') ]for line in lines[4:]]\n",
    "o = n+1\n",
    "print(m)\n",
    "print(n)\n",
    "print(load)\n",
    "print(size)\n",
    "for i in range(n+1):\n",
    "    for j in range(n+1):\n",
    "        print(D[i][j], end = \" \")\n",
    "    print()\n",
    "\n",
    "#Definizione solver\n",
    "s = Solver()\n",
    "\n",
    "\n",
    "#Utils\n",
    "def at_least_one_np(bool_vars):\n",
    "    return Or(bool_vars)\n",
    "\n",
    "def at_most_one_np(bool_vars):\n",
    "    return And([Not(And(pair[0], pair[1])) for pair in combinations(bool_vars, 2)])\n",
    "\n",
    "def exactly_one_np(bool_vars):\n",
    "    return And(at_least_one_np(bool_vars), at_most_one_np(bool_vars))\n",
    "\n",
    "tour = [[Int(f'tour_{i}_{j}') for j in range(n+2)] for i in range(m)]\n",
    "\n",
    "#Vincoli\n",
    "for i in range(m):\n",
    "    for j in range(n):\n",
    "        s.add(tour[i][j].count(j) == 1)\n",
    "\n",
    "if s.check() == sat:\n",
    "    model = s.model()\n",
    "    print(\"sat\")\n",
    "    for i in range(m):\n",
    "        for j in range(n+2):\n",
    "            print(model[tour[i][j]], end = \" \")\n",
    "        print()\n",
    "else:\n",
    "    print(\"unsat\")"
   ]
  }
 ],
 "metadata": {
  "kernelspec": {
   "display_name": "Python 3",
   "language": "python",
   "name": "python3"
  },
  "language_info": {
   "name": "python",
   "version": "3.10.10"
  },
  "orig_nbformat": 4
 },
 "nbformat": 4,
 "nbformat_minor": 2
}
