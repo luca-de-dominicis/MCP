{
 "cells": [
  {
   "cell_type": "code",
   "execution_count": 1,
   "metadata": {},
   "outputs": [],
   "source": [
    "from mip import *"
   ]
  },
  {
   "cell_type": "code",
   "execution_count": 2,
   "metadata": {},
   "outputs": [
    {
     "name": "stdout",
     "output_type": "stream",
     "text": [
      "3\n",
      "7\n",
      "[15, 10, 7]\n",
      "[3, 2, 6, 8, 5, 4, 4]\n",
      "0 3 3 6 5 6 6 2 \n",
      "3 0 6 3 4 7 7 3 \n",
      "3 4 0 7 6 3 5 3 \n",
      "6 3 7 0 5 6 7 4 \n",
      "5 4 6 3 0 3 3 3 \n",
      "6 7 3 6 3 0 2 4 \n",
      "6 7 5 6 3 2 0 4 \n",
      "2 3 3 4 3 4 4 0 \n"
     ]
    }
   ],
   "source": [
    "file = open(\"./Instances/inst03.dat\", \"r\")\n",
    "lines = file.readlines()\n",
    "file.close()\n",
    "m = int(lines[0].rstrip(''))\n",
    "n = int(lines[1].rstrip(''))\n",
    "load = [int(x) for x in lines[2].split(' ')]\n",
    "size = [int(x) for x in lines[3].split(' ')]\n",
    "instance = [[int(x) for x in line.rstrip().split(' ') ]for line in lines[4:]]\n",
    "o = n\n",
    "print(m)\n",
    "print(n)\n",
    "print(load)\n",
    "print(size)\n",
    "for i in range(n+1):\n",
    "    for j in range(n+1):\n",
    "        print(instance[i][j], end = \" \")\n",
    "    print()"
   ]
  },
  {
   "cell_type": "code",
   "execution_count": 3,
   "metadata": {},
   "outputs": [],
   "source": [
    "model = Model(sense=MINIMIZE, solver_name=CBC)"
   ]
  },
  {
   "cell_type": "code",
   "execution_count": null,
   "metadata": {},
   "outputs": [],
   "source": [
    "# 2 variable model\n",
    "\n",
    "# assignment[i,j] = 1 ---> item i assigned to courier j\n",
    "assignment = [[model.add_var(\"assignment[%d,%d]\" % (i, j), var_type=BINARY) for j in range(m)] for i in range(n)]\n",
    "\n",
    "# tour[i][j] = y ---> courier i at j-th route has item y assigned\n",
    "tour = [[model.add_var(\"tour_assignment[%d,%d]\" % (i, j), var_type=INTEGER, lb=0, ub=n) for j in range(n+2)] for i in range(m)]"
   ]
  },
  {
   "cell_type": "code",
   "execution_count": 5,
   "metadata": {},
   "outputs": [],
   "source": [
    "# 3 variable model\n",
    "# assignment[i,j] = 1 ---> item i assigned to courier j\n",
    "assignment = [[model.add_var(\"assignment[%d,%d]\" % (i, j), var_type=BINARY) for j in range(m)] for i in range(n)]\n",
    "\n",
    "# tour[i][j] = x ---> courier i dispatch at j-th route takes x\n",
    "tour = [[model.add_var(\"tour[%d,%d]\" % (i, j), var_type=INTEGER) for j in range(n+2)] for i in range(m)]\n",
    "\n",
    "# tour_assignment[i][j] = y ---> courier i at j-th route has item y assigned\n",
    "tour_assignment = [[model.add_var(\"tour_assignment[%d,%d]\" % (i, j), var_type=INTEGER, lb=0, ub=n) for j in range(n+2)] for i in range(m)]\n",
    "\n",
    "# tour[c,i,j] == 1 ---> courier c performed movement from i to j\n",
    "# tour = model.add_var_tensor((m, n+1, n+1), \"tour\", var_type=BINARY)\n",
    "\n",
    "# Objective function\n",
    "maxDist = model.add_var(\"maxDist\", var_type=INTEGER)                                                                              \n",
    "model.objective = maxDist"
   ]
  },
  {
   "cell_type": "code",
   "execution_count": null,
   "metadata": {},
   "outputs": [],
   "source": [
    "# Matrix model\n",
    "# tour[c,i,j] == 1 ---> courier c performed movement from i to j\n",
    "tour = model.add_var_tensor((m, n+1, n+1), \"tour\", var_type=BINARY)"
   ]
  },
  {
   "cell_type": "code",
   "execution_count": 15,
   "metadata": {},
   "outputs": [],
   "source": [
    "# Constraints for matrix model\n",
    "\n",
    "# Each item is assigned to exactly one courier\n",
    "for i in range(n):\n",
    "    model += xsum([tour[c][i][j] for c in range(m) for j in range(n)]) == 1\n",
    "\n",
    "# Each courier cannot load more than his capacity\n",
    "for c in range(m):\n",
    "    model += xsum([tour[c][i][j]*size[j] for i in range(n+1) for j in range(n)]) <= load[c]\n",
    "\n",
    "# Initial and final destination are the same\n",
    "for c in range(m):\n",
    "    model += xsum([tour[c][n][j] for j in range(n)]) == 1\n",
    "    model += xsum([tour[c][j][n] for j in range(n)]) == 1\n",
    "\n",
    "\n",
    "# distList = [xsum([tour[c][j] for j in range(n+1)]) for c in range(m)]                                                         \n",
    "distList = [xsum(instance[i][j]*tour[c][i][j] for i in range(n+1) for j in range(n+1)) for c in range(m)]                                                         \n",
    "for c in range(m):\n",
    "    model += maxDist >= distList[c]"
   ]
  },
  {
   "cell_type": "code",
   "execution_count": 6,
   "metadata": {},
   "outputs": [],
   "source": [
    "# Constraints for 3 variable model\n",
    "\n",
    "# Each item is assigned to exactly one courier\n",
    "for i in range(n):\n",
    "    model += xsum([assignment[i][j] for j in range(m)]) == 1\n",
    "\n",
    "# Each courier cannot load more than his capacity\n",
    "for c in range(m):\n",
    "    model += xsum([assignment[i][c]*size[i] for i in range(n)]) <= load[c]\n",
    "\n",
    "# Initial and final destination are the same\n",
    "for c in range(m):\n",
    "    model += tour_assignment[c][0] == o\n",
    "    model += tour_assignment[c][n+1] == o\n",
    "\n",
    "# Assigned items must be in courier's tour, Link tour_assignment to assignment, if assignment[i][j] == 1 then tour_assignment[i][k] == j for all k\n",
    "for c in range(m):\n",
    "    for i in range(n):\n",
    "        if assignment[i][c]:\n",
    "            model += xsum([tour_assignment[c][j] == i for j in range(n)]) == 1\n",
    "\n",
    "# Link tour to instance values\n",
    "\n",
    "# Objective function constraint\n",
    "distList = [xsum([tour[c][j] for j in range(n+1)]) for c in range(m)]                                                         \n",
    "for c in range(m):\n",
    "    model += maxDist >= distList[c]"
   ]
  },
  {
   "cell_type": "code",
   "execution_count": 33,
   "metadata": {},
   "outputs": [
    {
     "name": "stdout",
     "output_type": "stream",
     "text": [
      "Clp0000I Optimal - objective value 6\n",
      "\n",
      "Starting MIP optimization\n",
      "Cgl0003I 7 fixed, 1 tightened bounds, 0 strengthened rows, 0 substitutions\n",
      "Cgl0004I processed model has 19 rows, 151 columns (151 integer (150 of which binary)) and 425 elements\n",
      "Coin3009W Conflict graph built in 0.000 seconds, density: 4.146%\n",
      "Cgl0015I Clique Strengthening extended 0 cliques, 0 were dominated\n",
      "Cbc0045I MIPStart provided solution with cost 7\n",
      "Cbc0012I Integer solution of 7 found by Reduced search after 0 iterations and 0 nodes (0.00 seconds)\n",
      "Cbc0045I Nauty did not find any useful orbits in time 0.000177\n",
      "Cbc0006I The LP relaxation is infeasible or too expensive\n",
      "Cbc0013I At root node, 0 cuts changed objective from 6 to 6 in 1 passes\n",
      "Cbc0014I Cut generator 0 (Probing) - 1 row cuts average 0.0 elements, 6 column cuts (6 active)  in 0.000 seconds - new frequency is 1\n",
      "Cbc0014I Cut generator 1 (Gomory) - 0 row cuts average 0.0 elements, 0 column cuts (0 active)  in 0.000 seconds - new frequency is -100\n",
      "Cbc0014I Cut generator 2 (Knapsack) - 0 row cuts average 0.0 elements, 0 column cuts (0 active)  in 0.000 seconds - new frequency is -100\n",
      "Cbc0014I Cut generator 3 (Clique) - 0 row cuts average 0.0 elements, 0 column cuts (0 active)  in 0.000 seconds - new frequency is -100\n",
      "Cbc0014I Cut generator 4 (OddWheel) - 0 row cuts average 0.0 elements, 0 column cuts (0 active)  in 0.000 seconds - new frequency is -100\n",
      "Cbc0014I Cut generator 5 (MixedIntegerRounding2) - 0 row cuts average 0.0 elements, 0 column cuts (0 active)  in 0.000 seconds - new frequency is -100\n",
      "Cbc0014I Cut generator 6 (FlowCover) - 0 row cuts average 0.0 elements, 0 column cuts (0 active)  in 0.000 seconds - new frequency is -100\n",
      "Cbc0014I Cut generator 7 (TwoMirCuts) - 0 row cuts average 0.0 elements, 0 column cuts (0 active)  in 0.000 seconds - new frequency is -100\n",
      "Cbc0014I Cut generator 8 (ZeroHalf) - 0 row cuts average 0.0 elements, 0 column cuts (0 active)  in 0.000 seconds - new frequency is -100\n",
      "Cbc0001I Search completed - best objective 7, took 0 iterations and 0 nodes (0.01 seconds)\n",
      "Cbc0035I Maximum depth 0, 115 variables fixed on reduced cost\n",
      "Total time (CPU seconds):       0.01   (Wallclock seconds):       0.01\n",
      "\n",
      "Courier 0\n",
      "[0.0, 0.0, 0.0, 0.0, 0.0, 0.0, 0.0, 1.0]\n",
      "[0.0, 1.0, 0.0, 0.0, 0.0, 0.0, 0.0, 0.0]\n",
      "[0.0, 0.0, 0.0, 0.0, 0.0, 0.0, 0.0, 0.0]\n",
      "[0.0, 1.0, 0.0, 0.0, 0.0, 0.0, 0.0, 0.0]\n",
      "[0.0, 0.0, 0.0, 0.0, 0.0, 0.0, 0.0, 0.0]\n",
      "[0.0, 0.0, 0.0, 0.0, 0.0, 1.0, 0.0, 0.0]\n",
      "[0.0, 0.0, 0.0, 0.0, 0.0, 0.0, 1.0, 0.0]\n",
      "[1.0, 0.0, 0.0, 0.0, 0.0, 0.0, 0.0, 0.0]\n",
      "Courier 1\n",
      "[1.0, 0.0, 0.0, 0.0, 0.0, 0.0, 0.0, 1.0]\n",
      "[0.0, 0.0, 0.0, 0.0, 0.0, 0.0, 0.0, 0.0]\n",
      "[0.0, 0.0, 0.0, 0.0, 0.0, 0.0, 0.0, 0.0]\n",
      "[0.0, 0.0, 0.0, 0.0, 0.0, 0.0, 0.0, 0.0]\n",
      "[0.0, 0.0, 0.0, 0.0, 1.0, 0.0, 0.0, 0.0]\n",
      "[0.0, 0.0, 0.0, 0.0, 0.0, 0.0, 0.0, 0.0]\n",
      "[0.0, 0.0, 0.0, 0.0, 0.0, 0.0, 0.0, 0.0]\n",
      "[0.0, 1.0, 0.0, 0.0, 0.0, 0.0, 0.0, 0.0]\n",
      "Courier 2\n",
      "[0.0, 0.0, 0.0, 0.0, 0.0, 0.0, 0.0, 1.0]\n",
      "[0.0, 0.0, 0.0, 0.0, 0.0, 0.0, 0.0, 0.0]\n",
      "[1.0, 0.0, 0.0, 0.0, 0.0, 0.0, 0.0, 0.0]\n",
      "[0.0, 0.0, 0.0, 0.0, 0.0, 0.0, 0.0, 0.0]\n",
      "[0.0, 0.0, 0.0, 0.0, 0.0, 0.0, 0.0, 0.0]\n",
      "[0.0, 0.0, 0.0, 0.0, 0.0, 0.0, 0.0, 0.0]\n",
      "[0.0, 0.0, 0.0, 0.0, 0.0, 0.0, 0.0, 0.0]\n",
      "[1.0, 0.0, 0.0, 0.0, 0.0, 0.0, 0.0, 0.0]\n"
     ]
    }
   ],
   "source": [
    "status = model.optimize(max_seconds=300)\n",
    "\n",
    "if status == OptimizationStatus.OPTIMAL:\n",
    "    for c in range(m):\n",
    "        print(f\"Courier {c}\")\n",
    "        out = []\n",
    "        for i in range(n+1):\n",
    "            print([tour[c][i][j].x for j in range(n+1)])\n",
    "            for j in range(n+1):\n",
    "                if tour[c][i][j].x :\n",
    "                    out.append(j)\n",
    "        # print(out)\n",
    "            "
   ]
  }
 ],
 "metadata": {
  "kernelspec": {
   "display_name": "Python 3",
   "language": "python",
   "name": "python3"
  },
  "language_info": {
   "codemirror_mode": {
    "name": "ipython",
    "version": 3
   },
   "file_extension": ".py",
   "mimetype": "text/x-python",
   "name": "python",
   "nbconvert_exporter": "python",
   "pygments_lexer": "ipython3",
   "version": "3.10.10"
  },
  "orig_nbformat": 4
 },
 "nbformat": 4,
 "nbformat_minor": 2
}
