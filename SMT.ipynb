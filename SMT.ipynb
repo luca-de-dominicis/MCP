{
 "cells": [
  {
   "attachments": {},
   "cell_type": "markdown",
   "metadata": {},
   "source": [
    "# SMT"
   ]
  },
  {
   "cell_type": "code",
   "execution_count": 167,
   "metadata": {},
   "outputs": [],
   "source": [
    "from itertools import combinations\n",
    "from z3 import *"
   ]
  },
  {
   "cell_type": "code",
   "execution_count": 168,
   "metadata": {},
   "outputs": [
    {
     "name": "stdout",
     "output_type": "stream",
     "text": [
      "6\n",
      "9\n",
      "[190, 185, 185, 190, 195, 185]\n",
      "[11, 11, 23, 16, 2, 1, 24, 14, 20]\n",
      "0 199 119 28 179 77 145 61 123 87 \n",
      "199 0 81 206 38 122 55 138 76 113 \n",
      "119 81 0 126 69 121 26 117 91 32 \n",
      "28 206 126 0 186 84 152 68 130 94 \n",
      "169 38 79 176 0 92 58 108 46 98 \n",
      "77 122 121 84 102 0 100 16 46 96 \n",
      "145 55 26 152 58 100 0 91 70 58 \n",
      "61 138 113 68 118 16 91 0 62 87 \n",
      "123 76 91 130 56 46 70 62 0 66 \n",
      "87 113 32 94 94 96 58 87 66 0 \n"
     ]
    }
   ],
   "source": [
    "#Caricamento dati\n",
    "\n",
    "file = open(\"./Instances/inst02.dat\", \"r\")\n",
    "lines = file.readlines()\n",
    "file.close()\n",
    "m = int(lines[0].rstrip(''))\n",
    "n = int(lines[1].rstrip(''))\n",
    "load = [int(x) for x in lines[2].split(' ')]\n",
    "size = [int(x) for x in lines[3].split(' ')]\n",
    "D = [[int(x) for x in line.rstrip().split(' ') ]for line in lines[4:]]\n",
    "o = n\n",
    "print(m)\n",
    "print(n)\n",
    "print(load)\n",
    "print(size)\n",
    "for i in range(n+1):\n",
    "    for j in range(n+1):\n",
    "        print(D[i][j], end = \" \")\n",
    "    print()\n",
    "\n",
    "#Definizione solver\n",
    "s = Solver()\n",
    "# s = Optimize()"
   ]
  },
  {
   "cell_type": "code",
   "execution_count": 169,
   "metadata": {},
   "outputs": [],
   "source": [
    "#Utils\n",
    "def at_least_one_np(bool_vars):\n",
    "    return Or(bool_vars)\n",
    "\n",
    "def at_most_one_np(bool_vars):\n",
    "    return And([Not(And(pair[0], pair[1])) for pair in combinations(bool_vars, 2)])\n",
    "\n",
    "def exactly_one_np(bool_vars):\n",
    "    return And(at_least_one_np(bool_vars), at_most_one_np(bool_vars))\n",
    "\n",
    "def all_false(bool_vars):\n",
    "    return And([And(Not(pair[0]), Not(pair[1])) for pair in combinations(bool_vars, 2)])"
   ]
  },
  {
   "cell_type": "code",
   "execution_count": 170,
   "metadata": {},
   "outputs": [],
   "source": [
    "#Decision variables\n",
    "assignment = [[Bool(f'assignment_{i}_{j}') for j in range(m)] for i in range(n)]\n",
    "\n",
    "# tour[i][j] = x ---> courier i dispatch item x at j-th route\n",
    "tour = [[Int(f'tour_{i}_{j}') for j in range(n+2)] for i in range(m)]"
   ]
  },
  {
   "cell_type": "code",
   "execution_count": 171,
   "metadata": {},
   "outputs": [],
   "source": [
    "#Constraints\n",
    "\n",
    "# Each item is assigned to exactly one courier\n",
    "for i in range(n):\n",
    "    s.add(exactly_one_np([assignment[i][j] for j in range(m)]))\n",
    "\n",
    "# Each courier cannot load more than his capacity\n",
    "for j in range(m):\n",
    "    s.add(sum([If(assignment[i][j], size[i], 0) for i in range(n)]) <= load[j])\n",
    "\n",
    "# Initial and final destination are the same\n",
    "for c in range(m):\n",
    "    s.add(And(tour[c][0] == o, tour[c][n+1] == o))\n",
    "\n",
    "# Assigned items must be in courier's tour\n",
    "for c in range(m):\n",
    "    for i in range(n):\n",
    "        s.add(Implies(assignment[i][c], at_least_one_np([tour[c][j] == i for j in range(1, n+1)])))\n",
    "\n",
    "# Each assigned item is dispatched just once\n",
    "for c in range(m):\n",
    "    for i in range(n):\n",
    "        s.add(Implies(assignment[i][c], exactly_one_np([tour[c][j] == i for j in range(1,n+1)])))\n",
    "\n",
    "# If courer c does not dispatch item i, then i is not in his tour\n",
    "for c in range(m):\n",
    "    for i in range(n):\n",
    "        s.add(Implies(Not(assignment[i][c]), all_false([tour[c][j] == i for j in range(1, n+1)])))\n",
    "\n",
    "# Can't go back to deposit\n",
    "for c in range(m):\n",
    "    for j in range(1,n):\n",
    "        s.add(Implies(tour[c][j] == o, tour[c][j+1] == o))\n",
    "\n",
    "# Having an item in the tour implies that the item is assigned\n",
    "for c in range(m):\n",
    "    for j in range(1,n+1):\n",
    "        s.add([Implies(tour[c][j] == i, assignment[i][c]) for i in range(n)])\n",
    "\n",
    "# Limit the range of assignable item to only valid one\n",
    "for c in range(m):\n",
    "    for j in range(1,n+1):\n",
    "        s.add(And(Not(tour[c][j]>n), Not(tour[c][j]<0)))"
   ]
  },
  {
   "cell_type": "code",
   "execution_count": 190,
   "metadata": {},
   "outputs": [
    {
     "name": "stdout",
     "output_type": "stream",
     "text": [
      "sat\n",
      "False True False False False False \n",
      "False False False False True False \n",
      "False True False False False False \n",
      "True False False False False False \n",
      "False False False False True False \n",
      "True False False False False False \n",
      "False False False False False True \n",
      "True False False False False False \n",
      "False False False False True False \n",
      "9 5 3 7 9 9 9 9 9 9 9 \n",
      "9 0 2 9 9 9 9 9 9 9 9 \n",
      "9 9 9 9 9 9 9 9 9 9 9 \n",
      "9 9 9 9 9 9 9 9 9 9 9 \n",
      "9 8 4 1 9 9 9 9 9 9 9 \n",
      "9 6 9 9 9 9 9 9 9 9 9 \n",
      "Distances [335, 238, 0, 0, 273, 116]\n",
      "MaxDist 335\n",
      "Total Dist 962\n"
     ]
    }
   ],
   "source": [
    "if s.check() == sat:\n",
    "    model = s.model()\n",
    "    print(\"sat\")\n",
    "    for i in range(n):\n",
    "        for j in range(m):\n",
    "            print(model[assignment[i][j]], end = \" \")\n",
    "        print()\n",
    "    for i in range(m):\n",
    "        for j in range(n+2):\n",
    "            print(model[tour[i][j]], end = \" \")\n",
    "        print()\n",
    "    \n",
    "    dist = [sum([ D[int(str(model[tour[i][j]]))][int(str(model[tour[i][j+1]]))] for j in range(n+1) if i in range(n)]) for i in range(m)]\n",
    "    print(\"Distances:\", dist)\n",
    "    print(\"MaxDist:\", max(dist))\n",
    "    print(\"Total Dist:\", sum(dist))\n",
    "else:\n",
    "    print(\"unsat\")"
   ]
  }
 ],
 "metadata": {
  "kernelspec": {
   "display_name": "Python 3",
   "language": "python",
   "name": "python3"
  },
  "language_info": {
   "codemirror_mode": {
    "name": "ipython",
    "version": 3
   },
   "file_extension": ".py",
   "mimetype": "text/x-python",
   "name": "python",
   "nbconvert_exporter": "python",
   "pygments_lexer": "ipython3",
   "version": "3.10.9"
  },
  "orig_nbformat": 4
 },
 "nbformat": 4,
 "nbformat_minor": 2
}
