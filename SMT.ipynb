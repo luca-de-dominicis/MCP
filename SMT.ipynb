{
 "cells": [
  {
   "attachments": {},
   "cell_type": "markdown",
   "metadata": {},
   "source": [
    "# SMT"
   ]
  },
  {
   "cell_type": "code",
   "execution_count": 13,
   "metadata": {},
   "outputs": [],
   "source": [
    "from itertools import combinations\n",
    "from z3 import *"
   ]
  },
  {
   "cell_type": "code",
   "execution_count": 14,
   "metadata": {},
   "outputs": [
    {
     "name": "stdout",
     "output_type": "stream",
     "text": [
      "8\n",
      "10\n",
      "[180, 160, 185, 200, 180, 160, 175, 200]\n",
      "[10, 25, 18, 16, 14, 7, 9, 16, 24, 19]\n",
      "0 56 86 87 81 128 107 163 166 98 93 \n",
      "56 0 80 31 63 87 61 107 119 76 37 \n",
      "86 71 0 102 17 42 111 77 90 12 70 \n",
      "87 31 110 0 93 116 30 77 89 105 40 \n",
      "81 63 17 93 0 47 94 82 94 17 53 \n",
      "128 87 42 116 47 0 117 52 92 30 76 \n",
      "117 61 111 30 94 117 0 65 59 106 41 \n",
      "163 107 77 77 82 52 65 0 40 65 70 \n",
      "166 110 90 79 94 92 49 40 0 82 82 \n",
      "98 76 12 105 17 30 106 65 82 0 65 \n",
      "93 37 70 40 53 76 41 70 82 65 0 \n"
     ]
    }
   ],
   "source": [
    "#Caricamento dati\n",
    "\n",
    "file = open(\"./Instances/inst08.dat\", \"r\")\n",
    "lines = file.readlines()\n",
    "file.close()\n",
    "m = int(lines[0].rstrip(''))\n",
    "n = int(lines[1].rstrip(''))\n",
    "load = [int(x) for x in lines[2].split(' ')]\n",
    "size = [int(x) for x in lines[3].split(' ')]\n",
    "instance = [[int(x) for x in line.rstrip().split(' ') ]for line in lines[4:]]\n",
    "o = n\n",
    "print(m)\n",
    "print(n)\n",
    "print(load)\n",
    "print(size)\n",
    "for i in range(n+1):\n",
    "    for j in range(n+1):\n",
    "        print(instance[i][j], end = \" \")\n",
    "    print()\n",
    "\n",
    "#Definizione solver\n",
    "# s = Solver()\n",
    "s = Optimize()"
   ]
  },
  {
   "cell_type": "code",
   "execution_count": null,
   "metadata": {},
   "outputs": [
    {
     "ename": "",
     "evalue": "",
     "output_type": "error",
     "traceback": [
      "\u001b[1;31mRunning cells with '/usr/bin/python3' requires the ipykernel package.\n",
      "\u001b[1;31mRun the following command to install 'ipykernel' into the Python environment. \n",
      "\u001b[1;31mCommand: '/usr/bin/python3 -m pip install ipykernel -U --user --force-reinstall'"
     ]
    }
   ],
   "source": [
    "#Utils\n",
    "def at_least_one_np(bool_vars):\n",
    "    return Or(bool_vars)\n",
    "\n",
    "def at_most_one_np(bool_vars):\n",
    "    return And([Not(And(pair[0], pair[1])) for pair in combinations(bool_vars, 2)])\n",
    "\n",
    "def exactly_one_np(bool_vars):\n",
    "    return And(at_least_one_np(bool_vars), at_most_one_np(bool_vars))\n",
    "\n",
    "def all_false(bool_vars):\n",
    "    return And([And(Not(pair[0]), Not(pair[1])) for pair in combinations(bool_vars, 2)])"
   ]
  },
  {
   "cell_type": "code",
   "execution_count": 16,
   "metadata": {},
   "outputs": [],
   "source": [
    "#Decision variables\n",
    "assignment = [[Bool(f'assignment_{i}_{j}') for j in range(m)] for i in range(n)]\n",
    "\n",
    "# tour[i][j] = x ---> courier i dispatch item x at j-th route\n",
    "tour = [[Int(f'tour_{i}_{j}') for j in range(n+2)] for i in range(m)]\n",
    "\n",
    "# Distance matrix\n",
    "# D = [[Int(f'D_{i}_{j}') for j in range(n+1)] for i in range(n+1)]\n",
    "D_val = ArraySort(IntSort(), IntSort())\n",
    "D = Array('D', IntSort(), D_val)\n",
    "\n",
    "# Maxdist objective variable\n",
    "maxDist = Int(\"maxDist\")"
   ]
  },
  {
   "cell_type": "code",
   "execution_count": 17,
   "metadata": {},
   "outputs": [],
   "source": [
    "# Constraints\n",
    "\n",
    "# Matrix D initialization\n",
    "for i in range(n+1):\n",
    "    for j in range(n+1):\n",
    "        s.add(D[i][j] == instance[i][j])\n",
    "\n",
    "# Each item is assigned to exactly one courier\n",
    "for i in range(n):\n",
    "    s.add(exactly_one_np([assignment[i][j] for j in range(m)]))\n",
    "\n",
    "# Each courier cannot load more than his capacity\n",
    "for j in range(m):\n",
    "    s.add(sum([If(assignment[i][j], size[i], 0) for i in range(n)]) <= load[j])\n",
    "\n",
    "# Initial and final destination are the same\n",
    "for c in range(m):\n",
    "    s.add(And(tour[c][0] == o, tour[c][n+1] == o))\n",
    "\n",
    "# Assigned items must be in courier's tour\n",
    "for c in range(m):\n",
    "    for i in range(n):\n",
    "        s.add(Implies(assignment[i][c], at_least_one_np([tour[c][j] == i for j in range(1, n+1)])))\n",
    "\n",
    "# Each assigned item is dispatched just once\n",
    "for c in range(m):\n",
    "    for i in range(n):\n",
    "        s.add(Implies(assignment[i][c], exactly_one_np([tour[c][j] == i for j in range(1,n+1)])))\n",
    "\n",
    "# If courier c does not dispatch item i, then i is not in his tour\n",
    "for c in range(m):\n",
    "    for i in range(n):\n",
    "        s.add(Implies(Not(assignment[i][c]), all_false([tour[c][j] == i for j in range(1, n+1)])))\n",
    "\n",
    "# Can't go back to deposit\n",
    "for c in range(m):\n",
    "    for j in range(1,n):\n",
    "        s.add(Implies(tour[c][j] == o, tour[c][j+1] == o))\n",
    "\n",
    "# Having an item in the tour implies that the item is assigned\n",
    "for c in range(m):\n",
    "    for j in range(1,n+1):\n",
    "        s.add([Implies(tour[c][j] == i, assignment[i][c]) for i in range(n)])\n",
    "\n",
    "# Limit the range of assignable item to only valid one\n",
    "for c in range(m):\n",
    "    for j in range(1,n+1):\n",
    "        s.add(And(Not(tour[c][j]>n), Not(tour[c][j]<0)))"
   ]
  },
  {
   "cell_type": "code",
   "execution_count": 18,
   "metadata": {},
   "outputs": [],
   "source": [
    "# Objective function, minize max distance\n",
    "maxList = [Sum([D[tour[c][i]][tour[c][i+1]] for i in range(n+1)]) for c in range(m)]\n",
    "\n",
    "for c in range(m):\n",
    "    s.add(maxDist >= maxList[c])\n",
    "z = s.minimize(maxDist)"
   ]
  },
  {
   "cell_type": "code",
   "execution_count": 19,
   "metadata": {},
   "outputs": [
    {
     "name": "stdout",
     "output_type": "stream",
     "text": [
      "sat\n",
      "False True False False False False False False \n",
      "False False False False False False False True \n",
      "False False False False False False True False \n",
      "False False False False False False False True \n",
      "False False False False False False True False \n",
      "False False False False False True False False \n",
      "False False False True False False False False \n",
      "False False False False True False False False \n",
      "False False False True False False False False \n",
      "False False False False False False True False \n",
      "10 10 10 10 10 10 10 10 10 10 10 10 \n",
      "10 0 10 10 10 10 10 10 10 10 10 10 \n",
      "10 10 10 10 10 10 10 10 10 10 10 10 \n",
      "10 8 6 10 10 10 10 10 10 10 10 10 \n",
      "10 7 10 10 10 10 10 10 10 10 10 10 \n",
      "10 5 10 10 10 10 10 10 10 10 10 10 \n",
      "10 9 4 2 10 10 10 10 10 10 10 10 \n",
      "10 3 1 10 10 10 10 10 10 10 10 10 \n",
      "Distances: [0, 186, 0, 172, 140, 152, 169, 108]\n",
      "MaxDist: 186\n",
      "Total Dist: 927\n"
     ]
    }
   ],
   "source": [
    "if s.check() == sat:\n",
    "    model = s.model()\n",
    "    print(\"sat\")\n",
    "    for i in range(n):\n",
    "        for j in range(m):\n",
    "            print(model[assignment[i][j]], end = \" \")\n",
    "        print()\n",
    "    for i in range(m):\n",
    "        for j in range(n+2):\n",
    "            print(model[tour[i][j]], end = \" \")\n",
    "        print()\n",
    "    \n",
    "    dist = [sum([ instance[int(str(model[tour[i][j]]))][int(str(model[tour[i][j+1]]))] for j in range(n+1) if i in range(n)]) for i in range(m)]\n",
    "    print(\"Distances:\", dist)\n",
    "    print(\"MaxDist:\", z.value())\n",
    "    print(\"Total Dist:\", sum(dist))\n",
    "else:\n",
    "    print(\"unsat\")"
   ]
  }
 ],
 "metadata": {
  "kernelspec": {
   "display_name": "Python 3",
   "language": "python",
   "name": "python3"
  },
  "language_info": {
   "codemirror_mode": {
    "name": "ipython",
    "version": 3
   },
   "file_extension": ".py",
   "mimetype": "text/x-python",
   "name": "python",
   "nbconvert_exporter": "python",
   "pygments_lexer": "ipython3",
   "version": "3.11.2"
  },
  "orig_nbformat": 4
 },
 "nbformat": 4,
 "nbformat_minor": 2
}
