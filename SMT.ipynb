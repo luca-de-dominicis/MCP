{
 "cells": [
  {
   "attachments": {},
   "cell_type": "markdown",
   "metadata": {},
   "source": [
    "# SMT"
   ]
  },
  {
   "cell_type": "code",
   "execution_count": 468,
   "metadata": {},
   "outputs": [],
   "source": [
    "from itertools import combinations\n",
    "from z3 import *"
   ]
  },
  {
   "cell_type": "code",
   "execution_count": 469,
   "metadata": {},
   "outputs": [
    {
     "name": "stdout",
     "output_type": "stream",
     "text": [
      "2\n",
      "6\n",
      "[15, 10]\n",
      "[3, 2, 6, 5, 4, 4]\n",
      "0 3 4 5 6 6 2 \n",
      "3 0 1 4 5 7 3 \n",
      "4 1 0 5 6 6 4 \n",
      "4 4 5 0 3 3 2 \n",
      "6 7 8 3 0 2 4 \n",
      "6 7 8 3 2 0 4 \n",
      "2 3 4 3 4 4 0 \n"
     ]
    }
   ],
   "source": [
    "#Caricamento dati\n",
    "\n",
    "file = open(\"./Instances/inst01.dat\", \"r\")\n",
    "lines = file.readlines()\n",
    "file.close()\n",
    "m = int(lines[0].rstrip(''))\n",
    "n = int(lines[1].rstrip(''))\n",
    "load = [int(x) for x in lines[2].split(' ')]\n",
    "size = [int(x) for x in lines[3].split(' ')]\n",
    "D = [[int(x) for x in line.rstrip().split(' ') ]for line in lines[4:]]\n",
    "o = n+1\n",
    "print(m)\n",
    "print(n)\n",
    "print(load)\n",
    "print(size)\n",
    "for i in range(n+1):\n",
    "    for j in range(n+1):\n",
    "        print(D[i][j], end = \" \")\n",
    "    print()\n",
    "\n",
    "#Definizione solver\n",
    "s = Solver()"
   ]
  },
  {
   "cell_type": "code",
   "execution_count": 470,
   "metadata": {},
   "outputs": [],
   "source": [
    "#Utils\n",
    "def at_least_one_np(bool_vars):\n",
    "    return Or(bool_vars)\n",
    "\n",
    "def at_most_one_np(bool_vars):\n",
    "    return And([Not(And(pair[0], pair[1])) for pair in combinations(bool_vars, 2)])\n",
    "\n",
    "def exactly_one_np(bool_vars):\n",
    "    return And(at_least_one_np(bool_vars), at_most_one_np(bool_vars))"
   ]
  },
  {
   "cell_type": "code",
   "execution_count": 471,
   "metadata": {},
   "outputs": [],
   "source": [
    "#Decision variables\n",
    "assignment = [[Bool(f'assignment_{i}_{j}') for j in range(m)] for i in range(n)]\n",
    "tour = [[Int(f'tour_{i}_{j}') for j in range(n+2)] for i in range(m)]"
   ]
  },
  {
   "cell_type": "code",
   "execution_count": 472,
   "metadata": {},
   "outputs": [],
   "source": [
    "#Constraints\n",
    "\n",
    "# Each item is assigned to exactly one courier\n",
    "for i in range(n):\n",
    "    s.add(exactly_one_np([assignment[i][j] for j in range(m)]))\n",
    "\n",
    "# Each courier carries at most its capacity\n",
    "for j in range(m):\n",
    "    s.add(sum([If(assignment[i][j], size[i], 0) for i in range(n)]) <= load[j])\n",
    "\n",
    "# Each courier starts from the depot\n",
    "for c in range(m):\n",
    "    s.add(And(tour[c][0] == o, tour[c][n+1] == o))\n",
    "\n",
    "\n",
    "# Each courier visits only assigned items\n",
    "for c in range(m):\n",
    "    for i in range(n):\n",
    "        s.add(Implies(assignment[i][c], tour[c][i+1] == i+1))\n",
    "\n",
    "for c in range(m):\n",
    "    for i in range(n):\n",
    "        s.add(Implies(Not(assignment[i][c]), tour[c][i+1] == o))\n",
    "\n",
    "        \n",
    "\n",
    "# Objective function\n"
   ]
  },
  {
   "cell_type": "code",
   "execution_count": 473,
   "metadata": {},
   "outputs": [
    {
     "name": "stdout",
     "output_type": "stream",
     "text": [
      "sat\n",
      "True False \n",
      "True False \n",
      "False True \n",
      "True False \n",
      "False True \n",
      "True False \n",
      "7 1 2 7 4 7 6 7 \n",
      "7 7 7 3 7 5 7 7 \n"
     ]
    }
   ],
   "source": [
    "\n",
    "if s.check() == sat:\n",
    "    model = s.model()\n",
    "    print(\"sat\")\n",
    "    for i in range(n):\n",
    "        for j in range(m):\n",
    "            print(model[assignment[i][j]], end = \" \")\n",
    "        print()\n",
    "    for i in range(m):\n",
    "        for j in range(n+2):\n",
    "            print(model[tour[i][j]], end = \" \")\n",
    "        print()\n",
    "else:\n",
    "    print(\"unsat\")"
   ]
  }
 ],
 "metadata": {
  "kernelspec": {
   "display_name": "Python 3",
   "language": "python",
   "name": "python3"
  },
  "language_info": {
   "codemirror_mode": {
    "name": "ipython",
    "version": 3
   },
   "file_extension": ".py",
   "mimetype": "text/x-python",
   "name": "python",
   "nbconvert_exporter": "python",
   "pygments_lexer": "ipython3",
   "version": "3.10.10"
  },
  "orig_nbformat": 4
 },
 "nbformat": 4,
 "nbformat_minor": 2
}
