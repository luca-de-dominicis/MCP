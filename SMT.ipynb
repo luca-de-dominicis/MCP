{
 "cells": [
  {
   "attachments": {},
   "cell_type": "markdown",
   "metadata": {},
   "source": [
    "# SMT"
   ]
  },
  {
   "cell_type": "code",
   "execution_count": 3,
   "metadata": {},
   "outputs": [],
   "source": [
    "from itertools import combinations\n",
    "from z3 import *\n",
    "import math, sys, json, time"
   ]
  },
  {
   "cell_type": "code",
   "execution_count": 4,
   "metadata": {},
   "outputs": [
    {
     "name": "stdout",
     "output_type": "stream",
     "text": [
      "3\n",
      "7\n",
      "[15, 10, 7]\n",
      "[3, 2, 6, 8, 5, 4, 4]\n",
      "0 3 3 6 5 6 6 2 \n",
      "3 0 6 3 4 7 7 3 \n",
      "3 4 0 7 6 3 5 3 \n",
      "6 3 7 0 5 6 7 4 \n",
      "5 4 6 3 0 3 3 3 \n",
      "6 7 3 6 3 0 2 4 \n",
      "6 7 5 6 3 2 0 4 \n",
      "2 3 3 4 3 4 4 0 \n"
     ]
    },
    {
     "ename": "NameError",
     "evalue": "name 'Optimize' is not defined",
     "output_type": "error",
     "traceback": [
      "\u001b[0;31m---------------------------------------------------------------------------\u001b[0m",
      "\u001b[0;31mNameError\u001b[0m                                 Traceback (most recent call last)",
      "Cell \u001b[0;32mIn[4], line 23\u001b[0m\n\u001b[1;32m     19\u001b[0m     \u001b[39mprint\u001b[39m()\n\u001b[1;32m     21\u001b[0m \u001b[39m#Definizione solver\u001b[39;00m\n\u001b[1;32m     22\u001b[0m \u001b[39m# s = Solver()\u001b[39;00m\n\u001b[0;32m---> 23\u001b[0m s \u001b[39m=\u001b[39m Optimize()\n",
      "\u001b[0;31mNameError\u001b[0m: name 'Optimize' is not defined"
     ]
    }
   ],
   "source": [
    "#Caricamento dati\n",
    "\n",
    "file = open(\"./Instances/inst03.dat\", \"r\")\n",
    "lines = file.readlines()\n",
    "file.close()\n",
    "m = int(lines[0].rstrip(''))\n",
    "n = int(lines[1].rstrip(''))\n",
    "load = [int(x) for x in lines[2].split(' ')]\n",
    "size = [int(x) for x in lines[3].split(' ')]\n",
    "instance = [[int(x) for x in line.rstrip().split(' ') ]for line in lines[4:]]\n",
    "o = n\n",
    "print(m)\n",
    "print(n)\n",
    "print(load)\n",
    "print(size)\n",
    "for i in range(n+1):\n",
    "    for j in range(n+1):\n",
    "        print(instance[i][j], end = \" \")\n",
    "    print()\n",
    "\n",
    "#Definizione solver\n",
    "# s = Solver()\n",
    "s = Optimize()"
   ]
  },
  {
   "cell_type": "code",
   "execution_count": 5,
   "metadata": {},
   "outputs": [],
   "source": [
    "#Utils\n",
    "def at_least_one_np(bool_vars):\n",
    "    return Or(bool_vars)\n",
    "\n",
    "def at_most_one_np(bool_vars):\n",
    "    return And([Not(And(pair[0], pair[1])) for pair in combinations(bool_vars, 2)])\n",
    "\n",
    "def exactly_one_np(bool_vars):\n",
    "    return And(at_least_one_np(bool_vars), at_most_one_np(bool_vars))\n",
    "\n",
    "def all_false(bool_vars):\n",
    "    return And([And(Not(pair[0]), Not(pair[1])) for pair in combinations(bool_vars, 2)])"
   ]
  },
  {
   "cell_type": "code",
   "execution_count": 6,
   "metadata": {},
   "outputs": [],
   "source": [
    "#Decision variables\n",
    "assignment = [[Bool(f'assignment_{i}_{j}') for j in range(m)] for i in range(n)]\n",
    "\n",
    "# tour[i][j] = x ---> courier i dispatch item x at j-th route\n",
    "tour = [[Int(f'tour_{i}_{j}') for j in range(n+2)] for i in range(m)]\n",
    "\n",
    "# Distance matrix\n",
    "# D = [[Int(f'D_{i}_{j}') for j in range(n+1)] for i in range(n+1)]\n",
    "D_val = ArraySort(IntSort(), IntSort())\n",
    "D = Array('D', IntSort(), D_val)\n",
    "\n",
    "# Maxdist objective variable\n",
    "maxDist = Int(\"maxDist\")"
   ]
  },
  {
   "cell_type": "code",
   "execution_count": 7,
   "metadata": {},
   "outputs": [],
   "source": [
    "# Constraints\n",
    "\n",
    "# Matrix D initialization\n",
    "for i in range(n+1):\n",
    "    for j in range(n+1):\n",
    "        s.add(D[i][j] == instance[i][j])\n",
    "\n",
    "# Each item is assigned to exactly one courier\n",
    "for i in range(n):\n",
    "    s.add(exactly_one_np([assignment[i][j] for j in range(m)]))\n",
    "\n",
    "# Each courier cannot load more than his capacity\n",
    "for j in range(m):\n",
    "    s.add(sum([If(assignment[i][j], size[i], 0) for i in range(n)]) <= load[j])\n",
    "\n",
    "# Initial and final destination are the same\n",
    "for c in range(m):\n",
    "    s.add(And(tour[c][0] == o, tour[c][n+1] == o))\n",
    "\n",
    "# Assigned items must be in courier's tour\n",
    "for c in range(m):\n",
    "    for i in range(n):\n",
    "        s.add(Implies(assignment[i][c], at_least_one_np([tour[c][j] == i for j in range(1, n+1)])))\n",
    "\n",
    "# Each assigned item is dispatched just once\n",
    "for c in range(m):\n",
    "    for i in range(n):\n",
    "        s.add(Implies(assignment[i][c], exactly_one_np([tour[c][j] == i for j in range(1,n+1)])))\n",
    "\n",
    "# If courier c does not dispatch item i, then i is not in his tour\n",
    "for c in range(m):\n",
    "    for i in range(n):\n",
    "        s.add(Implies(Not(assignment[i][c]), all_false([tour[c][j] == i for j in range(1, n+1)])))\n",
    "\n",
    "# Can't go back to deposit\n",
    "for c in range(m):\n",
    "    for j in range(1,n):\n",
    "        s.add(Implies(tour[c][j] == o, tour[c][j+1] == o))\n",
    "\n",
    "# Having an item in the tour implies that the item is assigned\n",
    "for c in range(m):\n",
    "    for j in range(1,n+1):\n",
    "        s.add([Implies(tour[c][j] == i, assignment[i][c]) for i in range(n)])\n",
    "\n",
    "# Limit the range of assignable item to only valid one\n",
    "for c in range(m):\n",
    "    for j in range(1,n+1):\n",
    "        s.add(And(Not(tour[c][j]>n), Not(tour[c][j]<0)))"
   ]
  },
  {
   "cell_type": "code",
   "execution_count": 8,
   "metadata": {},
   "outputs": [],
   "source": [
    "# Objective function, minize max distance\n",
    "maxList = [Sum([D[tour[c][i]][tour[c][i+1]] for i in range(n+1)]) for c in range(m)]\n",
    "\n",
    "for c in range(m):\n",
    "    s.add(maxDist >= maxList[c])\n",
    "z = s.minimize(maxDist)"
   ]
  },
  {
   "cell_type": "code",
   "execution_count": 9,
   "metadata": {},
   "outputs": [
    {
     "name": "stdout",
     "output_type": "stream",
     "text": [
      "sat\n",
      "False False True \n",
      "True False False \n",
      "False True False \n",
      "True False False \n",
      "True False False \n",
      "False True False \n",
      "False False True \n",
      "7 4 3 1 7 7 7 7 7 \n",
      "7 2 5 7 7 7 7 7 7 \n",
      "7 0 6 7 7 7 7 7 7 \n",
      "Distances: [12, 10, 12]\n",
      "MaxDist: 12\n",
      "Total Dist: 34\n"
     ]
    }
   ],
   "source": [
    "s.set(\"timeout\", 300000)\n",
    "if s.check() == sat:\n",
    "    model = s.model()\n",
    "    print(\"sat\")\n",
    "    for i in range(n):\n",
    "        for j in range(m):\n",
    "            print(model[assignment[i][j]], end = \" \")\n",
    "        print()\n",
    "    for i in range(m):\n",
    "        for j in range(n+2):\n",
    "            print(model[tour[i][j]], end = \" \")\n",
    "        print()\n",
    "    \n",
    "    dist = [sum([ instance[int(str(model[tour[i][j]]))][int(str(model[tour[i][j+1]]))] for j in range(n+1) if i in range(n)]) for i in range(m)]\n",
    "    print(\"Distances:\", dist)\n",
    "    print(\"MaxDist:\", z.value())\n",
    "    print(\"Total Dist:\", sum(dist))\n",
    "else:\n",
    "    print(\"unsat\")"
   ]
  },
  {
   "cell_type": "code",
   "execution_count": 12,
   "metadata": {},
   "outputs": [
    {
     "data": {
      "text/plain": [
       "12"
      ]
     },
     "execution_count": 12,
     "metadata": {},
     "output_type": "execute_result"
    }
   ],
   "source": [
    "int(str(z.value()))"
   ]
  },
  {
   "cell_type": "code",
   "execution_count": 10,
   "metadata": {},
   "outputs": [
    {
     "ename": "TypeError",
     "evalue": "int() argument must be a string, a bytes-like object or a real number, not 'IntNumRef'",
     "output_type": "error",
     "traceback": [
      "\u001b[0;31m---------------------------------------------------------------------------\u001b[0m",
      "\u001b[0;31mTypeError\u001b[0m                                 Traceback (most recent call last)",
      "Cell \u001b[0;32mIn[10], line 1\u001b[0m\n\u001b[0;32m----> 1\u001b[0m \u001b[39mint\u001b[39;49m(z\u001b[39m.\u001b[39;49mvalue())\n",
      "\u001b[0;31mTypeError\u001b[0m: int() argument must be a string, a bytes-like object or a real number, not 'IntNumRef'"
     ]
    }
   ],
   "source": [
    "int(z.value())"
   ]
  }
 ],
 "metadata": {
  "kernelspec": {
   "display_name": "Python 3",
   "language": "python",
   "name": "python3"
  },
  "language_info": {
   "codemirror_mode": {
    "name": "ipython",
    "version": 3
   },
   "file_extension": ".py",
   "mimetype": "text/x-python",
   "name": "python",
   "nbconvert_exporter": "python",
   "pygments_lexer": "ipython3",
   "version": "3.10.10"
  },
  "orig_nbformat": 4
 },
 "nbformat": 4,
 "nbformat_minor": 2
}
